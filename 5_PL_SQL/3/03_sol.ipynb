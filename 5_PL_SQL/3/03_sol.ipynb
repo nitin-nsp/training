{
 "cells": [
  {
   "cell_type": "markdown",
   "metadata": {},
   "source": [
    "1. Implicit Cursors:\n",
    "a What is an implicit cursor in PL/SQL? Explain its purpose and characteristics.\n",
    "\n",
    "\n",
    "\n",
    "\n",
    "b) Write a PL/SQL block that uses an implicit cursor to fetch and display the names of all employees from the \"employees\" table.\n",
    "\n",
    "2. Write a PL/SQL block to retrieve and display the details of an employee with a specific ID. Prompt the user to enter the employee ID as input.\n",
    "\n",
    "3. Write a PL/SQL block that inserts a new department record into the \"departments\" table. Prompt the user to enter the department name and location as input.\n",
    "\n",
    "4. Write a PL/SQL block to handle the NO_DATA_FOUND exception while fetching an employee's details based on a given employee ID. Display a custom message when the exception occurs.\n",
    "\n",
    "5. Transaction Management:\n",
    "a) Write a PL/SQL block that transfers an employee from one department to another. Update the \"departments\" table and the \"employees\" table to reflect the change. Ensure that both updates are treated as a single transaction and are committed only if both succeed.\n",
    "b) Create a stored procedure that allows updating an employee's job title and salary simultaneously. If the job title is updated successfully, but the salary update fails, the procedure should roll back the job title change.\n",
    "\n",
    "6. Write a PL/SQL block to retrieve the employee details (employee_id, first_name, last_name, and salary) from the \"employees\" table for a given department ID (prompt user). If no employees are found, display \"No employees found for the given department.\"\n",
    "\n",
    "7. Create a PL/SQL block that increases the salary of all employees in the \"sales\" department by 10%. Display the affected employee IDs and their updated salaries.\n",
    "\n",
    "8. Write a PL/SQL block that deletes all employees who have a salary less than 3000 and hire date older than 5 years. Display the count of deleted employees.\n",
    "\n",
    "9. Write a PL/SQL block to insert a new record into the \"employees\" table."
   ]
  },
  {
   "cell_type": "markdown",
   "metadata": {},
   "source": [
    "## Implicit Cursors:\n",
    "a What is an implicit cursor in PL/SQL? Explain its purpose and characteristics.\n",
    "\n",
    "- sol: implicit cursor are inbuilt cursor or pointor sort of thing that keep pointing to last excuated query. \n",
    "and it has some characteristics properties which they can access\n",
    "![alt text](implicit_cursor.png)\n"
   ]
  },
  {
   "cell_type": "code",
   "execution_count": null,
   "metadata": {
    "vscode": {
     "languageId": "sql"
    }
   },
   "outputs": [],
   "source": [
    "declare\n",
    "\n",
    "begin \n",
    "update from dep"
   ]
  }
 ],
 "metadata": {
  "language_info": {
   "name": "python"
  }
 },
 "nbformat": 4,
 "nbformat_minor": 2
}
