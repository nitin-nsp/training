{
 "cells": [
  {
   "cell_type": "code",
   "execution_count": null,
   "metadata": {},
   "outputs": [],
   "source": [
    "class Base:\n",
    "    pass\n",
    "\n",
    "class child(Base):\n",
    "    pass"
   ]
  },
  {
   "cell_type": "markdown",
   "metadata": {},
   "source": [
    "- calling parent construtor (explict)"
   ]
  },
  {
   "cell_type": "code",
   "execution_count": null,
   "metadata": {},
   "outputs": [],
   "source": [
    "class base:\n",
    "    def __init__(self,name):\n",
    "        self.__name=name # private var\n",
    "        print(f\"in Parent:{self.__name}\")\n",
    "\n",
    "class child(base):\n",
    "    def __init__(self,name,age):\n",
    "        super().__init__(name=name) \n",
    "        self.age=age"
   ]
  },
  {
   "cell_type": "markdown",
   "metadata": {},
   "source": [
    "- multiple construtor"
   ]
  },
  {
   "cell_type": "code",
   "execution_count": 2,
   "metadata": {},
   "outputs": [
    {
     "name": "stdout",
     "output_type": "stream",
     "text": [
      "in Base1: Alice\n",
      "in Base2: 10\n"
     ]
    }
   ],
   "source": [
    "class Base1:\n",
    "    def __init__(self, name):\n",
    "        self.__name = name  # private var\n",
    "        print(f\"in Base1: {self.__name}\")\n",
    "\n",
    "class Base2:\n",
    "    def __init__(self, age):\n",
    "        self.__age = age  # private var\n",
    "        print(f\"in Base2: {self.__age}\")\n",
    "\n",
    "class Child(Base1, Base2):\n",
    "    def __init__(self, name, age):\n",
    "        Base1.__init__(self, name)  # Call Base1 constructor\n",
    "        Base2.__init__(self, age)   # Call Base2 constructor\n",
    "\n",
    "# Creating an instance of Child\n",
    "child = Child(\"Alice\", 10)\n"
   ]
  }
 ],
 "metadata": {
  "kernelspec": {
   "display_name": "Python 3",
   "language": "python",
   "name": "python3"
  },
  "language_info": {
   "codemirror_mode": {
    "name": "ipython",
    "version": 3
   },
   "file_extension": ".py",
   "mimetype": "text/x-python",
   "name": "python",
   "nbconvert_exporter": "python",
   "pygments_lexer": "ipython3",
   "version": "3.11.9"
  }
 },
 "nbformat": 4,
 "nbformat_minor": 2
}
