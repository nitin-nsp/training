{
 "cells": [
  {
   "cell_type": "markdown",
   "metadata": {},
   "source": [
    "- Overloading is done using magic methods , they get call impliclty\n"
   ]
  },
  {
   "cell_type": "code",
   "execution_count": null,
   "metadata": {},
   "outputs": [],
   "source": [
    "class Fraction:\n",
    "    def __init__(self,n,d) -> None:\n",
    "        self.n=n\n",
    "        self.d=d\n",
    "    def __str__(self) -> str: # for print \n",
    "        return f\"{self.n}/{self.d}\"\n",
    "    def __add__(self, other):\n",
    " \n",
    "        return Fraction(self.n+other.n,self.d+other.d)\n",
    "    \n",
    "\n",
    "\n",
    "f1=Fraction(4,5)\n",
    "print(f1)\n",
    "f2=Fraction(4,5)\n",
    "f3=f1+f2\n",
    "\n",
    "print(f3)"
   ]
  }
 ],
 "metadata": {
  "language_info": {
   "name": "python"
  }
 },
 "nbformat": 4,
 "nbformat_minor": 2
}
